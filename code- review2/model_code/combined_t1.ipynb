{
 "cells": [
  {
   "cell_type": "code",
   "execution_count": null,
   "metadata": {},
   "outputs": [],
   "source": [
    "import pandas as pd\n",
    "import numpy as np\n",
    "from sklearn.model_selection import train_test_split\n",
    "from sklearn.preprocessing import MinMaxScaler"
   ]
  },
  {
   "cell_type": "code",
   "execution_count": null,
   "metadata": {},
   "outputs": [],
   "source": [
    "#2022 and 2023\n",
    "lst_data_2022 = pd.read_csv('C:\\Anna_Data_D_files\\sem6\\z_capstone\\Agriculture\\A_Phase_2\\code- review2\\preprocessed_files\\DICRA\\LST_2022.csv')\n",
    "no2_data_2022 = pd.read_csv('C:\\Anna_Data_D_files\\sem6\\z_capstone\\Agriculture\\A_Phase_2\\code- review2\\preprocessed_files\\DICRA\\NO2_2022.csv')\n",
    "pm25_data_2022 = pd.read_csv('C:\\Anna_Data_D_files\\sem6\\z_capstone\\Agriculture\\A_Phase_2\\code- review2\\preprocessed_files\\DICRA\\PM25_2022.csv')\n",
    "precip_data_2022 = pd.read_csv('C:\\Anna_Data_D_files\\sem6\\z_capstone\\Agriculture\\A_Phase_2\\code- review2\\preprocessed_files\\DICRA\\PRECIPITATION_2022.csv')\n",
    "ssm_data_2022 = pd.read_csv('C:\\Anna_Data_D_files\\sem6\\z_capstone\\Agriculture\\A_Phase_2\\code- review2\\preprocessed_files\\DICRA\\SSM_2022.csv')\n",
    "temp_dicra_data_2022 = pd.read_csv('C:\\Anna_Data_D_files\\sem6\\z_capstone\\Agriculture\\A_Phase_2\\code- review2\\preprocessed_files\\DICRA\\TEMPERATURE_2022.csv')\n",
    "\n",
    "lst_data_2023 = pd.read_csv('C:\\\\Anna_Data_D_files\\\\sem6\\\\z_capstone\\\\Agriculture\\\\A_Phase_2\\\\code- review2\\\\preprocessed_files\\\\DICRA\\\\LST_2023.csv')\n",
    "no2_data_2023 = pd.read_csv('C:\\\\Anna_Data_D_files\\\\sem6\\\\z_capstone\\\\Agriculture\\\\A_Phase_2\\\\code- review2\\\\preprocessed_files\\\\DICRA\\\\NO2_2023.csv')\n",
    "pm25_data_2023 = pd.read_csv('C:\\\\Anna_Data_D_files\\\\sem6\\\\z_capstone\\\\Agriculture\\\\A_Phase_2\\\\code- review2\\\\preprocessed_files\\\\DICRA\\\\PM25_2023.csv')\n",
    "precip_data_2023 = pd.read_csv('C:\\\\Anna_Data_D_files\\\\sem6\\\\z_capstone\\\\Agriculture\\\\A_Phase_2\\\\code- review2\\\\preprocessed_files\\\\DICRA\\\\PRECIPITATION_2023.csv')\n",
    "ssm_data_2023 = pd.read_csv('C:\\\\Anna_Data_D_files\\\\sem6\\\\z_capstone\\\\Agriculture\\\\A_Phase_2\\\\code- review2\\\\preprocessed_files\\\\DICRA\\\\SSM_2023.csv')\n",
    "temp_dicra_data_2023 = pd.read_csv('C:\\\\Anna_Data_D_files\\\\sem6\\\\z_capstone\\\\Agriculture\\\\A_Phase_2\\\\code- review2\\\\preprocessed_files\\\\DICRA\\\\TEMPERATURE_2023.csv')\n",
    "\n",
    "#telengana data (only for one month now)\n",
    "# temp_tel_july_2023_data = pd.read_csv('temp.csv')\n",
    "\n",
    "desagri_yield_data = pd.read_csv('yield_data.csv')"
   ]
  },
  {
   "cell_type": "code",
   "execution_count": null,
   "metadata": {},
   "outputs": [],
   "source": [
    "def preprocess_dicra_files(df):\n",
    "    df['date'] = pd.to_datetime(df['source_file'].str.replace('.tif', '', regex=False))\n",
    "\n",
    "    # Convert the date to dd-mm-yyyy format\n",
    "    df['date'] = df['date'].dt.strftime('%d-%m-%Y')\n",
    "\n",
    "    # Drop the original 'source_file' column or rename it\n",
    "    df = df.drop(columns=['source_file'])\n",
    "\n",
    "    # Rename the column to match other data\n",
    "    df = df.rename(columns={'district_name': 'district'})"
   ]
  }
 ],
 "metadata": {
  "language_info": {
   "name": "python"
  }
 },
 "nbformat": 4,
 "nbformat_minor": 2
}

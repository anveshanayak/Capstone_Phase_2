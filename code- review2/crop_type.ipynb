{
 "cells": [
  {
   "cell_type": "code",
   "execution_count": 1,
   "metadata": {},
   "outputs": [
    {
     "name": "stdout",
     "output_type": "stream",
     "text": [
      "Requirement already satisfied: pandas in c:\\users\\anves\\appdata\\local\\packages\\pythonsoftwarefoundation.python.3.10_qbz5n2kfra8p0\\localcache\\local-packages\\python310\\site-packages (2.1.1)\n",
      "Collecting dbfread\n",
      "  Downloading dbfread-2.0.7-py2.py3-none-any.whl (20 kB)\n",
      "Requirement already satisfied: pytz>=2020.1 in c:\\users\\anves\\appdata\\local\\packages\\pythonsoftwarefoundation.python.3.10_qbz5n2kfra8p0\\localcache\\local-packages\\python310\\site-packages (from pandas) (2023.3.post1)\n",
      "Requirement already satisfied: numpy>=1.22.4 in c:\\users\\anves\\appdata\\local\\packages\\pythonsoftwarefoundation.python.3.10_qbz5n2kfra8p0\\localcache\\local-packages\\python310\\site-packages (from pandas) (1.24.1)\n",
      "Requirement already satisfied: tzdata>=2022.1 in c:\\users\\anves\\appdata\\local\\packages\\pythonsoftwarefoundation.python.3.10_qbz5n2kfra8p0\\localcache\\local-packages\\python310\\site-packages (from pandas) (2023.3)\n",
      "Requirement already satisfied: python-dateutil>=2.8.2 in c:\\users\\anves\\appdata\\local\\packages\\pythonsoftwarefoundation.python.3.10_qbz5n2kfra8p0\\localcache\\local-packages\\python310\\site-packages (from pandas) (2.8.2)\n",
      "Requirement already satisfied: six>=1.5 in c:\\users\\anves\\appdata\\local\\packages\\pythonsoftwarefoundation.python.3.10_qbz5n2kfra8p0\\localcache\\local-packages\\python310\\site-packages (from python-dateutil>=2.8.2->pandas) (1.16.0)\n",
      "Installing collected packages: dbfread\n",
      "Successfully installed dbfread-2.0.7\n",
      "Note: you may need to restart the kernel to use updated packages.\n"
     ]
    },
    {
     "name": "stderr",
     "output_type": "stream",
     "text": [
      "\n",
      "[notice] A new release of pip is available: 23.0.1 -> 24.2\n",
      "[notice] To update, run: C:\\Users\\anves\\AppData\\Local\\Microsoft\\WindowsApps\\PythonSoftwareFoundation.Python.3.10_qbz5n2kfra8p0\\python.exe -m pip install --upgrade pip\n"
     ]
    }
   ],
   "source": [
    "%pip install pandas dbfread\n"
   ]
  },
  {
   "cell_type": "code",
   "execution_count": 4,
   "metadata": {},
   "outputs": [
    {
     "name": "stdout",
     "output_type": "stream",
     "text": [
      "    Value      Count                        Class_Name  Red  Green  Blue  \\\n",
      "0       0  1604594.0                                      0      0     0   \n",
      "1       1    77223.0         1. Irrigated-DC-rice-rice    0    255     0   \n",
      "2       2   209043.0       2. Irrigated-DC-rice-pulses  160     82    45   \n",
      "3       3    83203.0  3. Irrigated-DC-pulses/maize-mai    0    255   255   \n",
      "4       4     4216.0            4. Irrigated-sugarcane    0    100     0   \n",
      "5       5   511076.0         5. Rainfed-DC-cotton-rice  255    255     0   \n",
      "6       6    52925.0  6. Rainfed-DC-sorghum-chickpea/f  238    130   238   \n",
      "7       7   125627.0         7. Rainfed-SC-rice-fallow  255    192   203   \n",
      "8       8    78126.0  8. Rainfed-SC-pigeonpea/groundnu  160     32   240   \n",
      "9       9    11579.0    9. Rainfed-SC-cotton/groundnut  255    255   224   \n",
      "10     10    46416.0             10. Rainfed-SC-pulses  165     42    42   \n",
      "11     11    28260.0             11. Rainfed-groundnut  210    180   140   \n",
      "12     12   510395.0                   12. Mixed crops  255    192   203   \n",
      "13     13   424797.0                   13. Other LLULC  192    192   192   \n",
      "\n",
      "    Opacity  \n",
      "0       255  \n",
      "1       255  \n",
      "2       255  \n",
      "3       255  \n",
      "4       255  \n",
      "5       255  \n",
      "6       255  \n",
      "7       255  \n",
      "8       255  \n",
      "9       255  \n",
      "10      255  \n",
      "11      255  \n",
      "12      255  \n",
      "13      255  \n"
     ]
    }
   ],
   "source": [
    "from dbfread import DBF\n",
    "import pandas as pd\n",
    "\n",
    "# Path to your .dbf file\n",
    "dbf_file_path = 'C:\\Anna_Data_D_files\\sem6\\z_capstone\\Agriculture\\A_Phase_1\\datasets\\DiCRA\\Telengana\\SOCIO-ECONOMIC\\CROP_TYPE\\croptype_telangana_2014_15.img.tif.vat.dbf'\n",
    "\n",
    "# Read the .dbf file\n",
    "dbf = DBF(dbf_file_path)\n",
    "\n",
    "# Convert to DataFrame\n",
    "df = pd.DataFrame(iter(dbf))\n",
    "\n",
    "# Display the DataFrame\n",
    "print(df)\n",
    "\n",
    "csv_file_path = 'C:\\Anna_Data_D_files\\sem6\\z_capstone\\Agriculture\\A_Phase_2\\code- review2\\preprocessed_files\\DICRA\\Crop_Type_2015_dbf.csv'\n",
    "df.to_csv(csv_file_path, index=False)\n"
   ]
  },
  {
   "cell_type": "code",
   "execution_count": 11,
   "metadata": {},
   "outputs": [],
   "source": [
    "import rasterio\n",
    "import pandas as pd\n",
    "import numpy as np\n",
    "\n",
    "# Read the DBF CSV file\n",
    "def read_dbf_csv(dbf_csv_file):\n",
    "    dbf_data = pd.read_csv(dbf_csv_file)\n",
    "    return dbf_data\n",
    "\n",
    "# Read the raster file\n",
    "def read_raster(raster_file):\n",
    "    with rasterio.open(raster_file) as src:\n",
    "        array = src.read(1)  # Read the first band\n",
    "        transform = src.transform\n",
    "        metadata = src.meta\n",
    "    return array, transform, metadata\n",
    "\n",
    "# Convert pixel coordinates to geographic coordinates\n",
    "def pixel_to_coords(pixel_array, transform):\n",
    "    rows, cols = pixel_array.shape\n",
    "    x, y = np.indices((rows, cols))\n",
    "    x_coords, y_coords = rasterio.transform.xy(transform, x, y)\n",
    "    # Convert lists to numpy arrays\n",
    "    x_coords = np.array(x_coords)\n",
    "    y_coords = np.array(y_coords)\n",
    "    return x_coords, y_coords\n",
    "\n",
    "# Map raster values to crop types\n",
    "def map_raster_to_crop_types(raster_array, dbf_data):\n",
    "    value_to_crop = dict(zip(dbf_data['Value'], dbf_data['Class_Name']))\n",
    "    vectorized_map = np.vectorize(value_to_crop.get)\n",
    "    crop_type_array = vectorized_map(raster_array)\n",
    "    return crop_type_array\n",
    "\n",
    "# Convert to CSV with blank value removal\n",
    "def data_to_csv(x_coords, y_coords, crop_type_array, output_csv_file):\n",
    "    df = pd.DataFrame({\n",
    "        'Longitude': x_coords.flatten(),\n",
    "        'Latitude': y_coords.flatten(),\n",
    "        'Crop_Type': crop_type_array.flatten()\n",
    "    })\n",
    "    \n",
    "    # Remove rows where 'Crop_Type' is NaN or empty string\n",
    "    df = df[df['Crop_Type'].notna() & (df['Crop_Type'] != '')]\n",
    "    \n",
    "    df.to_csv(output_csv_file, index=False)\n",
    "\n",
    "# File paths\n",
    "\n",
    "raster_file = 'C:\\Anna_Data_D_files\\sem6\\z_capstone\\Agriculture\\A_Phase_1\\datasets\\DiCRA\\Telengana\\SOCIO-ECONOMIC\\CROP_TYPE\\RASTER\\\\01-01-2015.tif'\n",
    "dbf_csv_file = 'C:\\Anna_Data_D_files\\sem6\\z_capstone\\Agriculture\\A_Phase_2\\code- review2\\preprocessed_files\\DICRA\\Crop_Type_2015_dbf.csv'\n",
    "output_csv_file = 'C:\\Anna_Data_D_files\\sem6\\z_capstone\\Agriculture\\A_Phase_2\\code- review2\\preprocessed_files\\DICRA\\Crop_Type_output_2.csv'\n",
    "\n",
    "\n",
    "# Process\n",
    "dbf_data = read_dbf_csv(dbf_csv_file)\n",
    "raster_array, transform, metadata = read_raster(raster_file)\n",
    "x_coords, y_coords = pixel_to_coords(raster_array, transform)\n",
    "crop_type_array = map_raster_to_crop_types(raster_array, dbf_data)\n",
    "data_to_csv(x_coords, y_coords, crop_type_array, output_csv_file)\n"
   ]
  },
  {
   "cell_type": "code",
   "execution_count": null,
   "metadata": {},
   "outputs": [],
   "source": [
    "# # File paths\n",
    "\n",
    "# raster_file = 'C:\\Anna_Data_D_files\\sem6\\z_capstone\\Agriculture\\A_Phase_1\\datasets\\DiCRA\\Telengana\\SOCIO-ECONOMIC\\CROP_TYPE\\RASTER\\\\01-01-2015.tif'\n",
    "# dbf_csv_file = 'C:\\Anna_Data_D_files\\sem6\\z_capstone\\Agriculture\\A_Phase_2\\code- review2\\preprocessed_files\\DICRA\\Crop_Type_2015_dbf.csv'\n",
    "# output_csv_file = 'C:\\Anna_Data_D_files\\sem6\\z_capstone\\Agriculture\\A_Phase_2\\code- review2\\preprocessed_files\\DICRA\\Crop_Type_output.csv'\n"
   ]
  }
 ],
 "metadata": {
  "kernelspec": {
   "display_name": "Python 3",
   "language": "python",
   "name": "python3"
  },
  "language_info": {
   "codemirror_mode": {
    "name": "ipython",
    "version": 3
   },
   "file_extension": ".py",
   "mimetype": "text/x-python",
   "name": "python",
   "nbconvert_exporter": "python",
   "pygments_lexer": "ipython3",
   "version": "3.10.11"
  }
 },
 "nbformat": 4,
 "nbformat_minor": 2
}
